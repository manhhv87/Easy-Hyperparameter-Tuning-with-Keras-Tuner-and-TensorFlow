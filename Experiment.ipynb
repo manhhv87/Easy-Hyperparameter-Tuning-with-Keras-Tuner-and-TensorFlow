{
  "nbformat": 4,
  "nbformat_minor": 0,
  "metadata": {
    "colab": {
      "name": "Experiment.ipynb",
      "provenance": [],
      "authorship_tag": "ABX9TyM4Hybj0E8y5npDK4LRd3uW",
      "include_colab_link": true
    },
    "kernelspec": {
      "name": "python3",
      "display_name": "Python 3"
    },
    "language_info": {
      "name": "python"
    }
  },
  "cells": [
    {
      "cell_type": "markdown",
      "metadata": {
        "id": "view-in-github",
        "colab_type": "text"
      },
      "source": [
        "<a href=\"https://colab.research.google.com/github/manhhv87/Easy-Hyperparameter-Tuning-with-Keras-Tuner-and-TensorFlow/blob/main/Experiment.ipynb\" target=\"_parent\"><img src=\"https://colab.research.google.com/assets/colab-badge.svg\" alt=\"Open In Colab\"/></a>"
      ]
    },
    {
      "cell_type": "code",
      "metadata": {
        "colab": {
          "base_uri": "https://localhost:8080/"
        },
        "id": "UiIC3Ba55h8h",
        "outputId": "9b0bbb71-269b-4189-803b-5fea20aba11c"
      },
      "source": [
        "!git clone https://github.com/manhhv87/Easy-Hyperparameter-Tuning-with-Keras-Tuner-and-TensorFlow.git"
      ],
      "execution_count": 1,
      "outputs": [
        {
          "output_type": "stream",
          "name": "stdout",
          "text": [
            "Cloning into 'Easy-Hyperparameter-Tuning-with-Keras-Tuner-and-TensorFlow'...\n",
            "remote: Enumerating objects: 28, done.\u001b[K\n",
            "remote: Counting objects: 100% (28/28), done.\u001b[K\n",
            "remote: Compressing objects: 100% (22/22), done.\u001b[K\n",
            "remote: Total 28 (delta 3), reused 20 (delta 1), pack-reused 0\u001b[K\n",
            "Unpacking objects: 100% (28/28), done.\n"
          ]
        }
      ]
    },
    {
      "cell_type": "code",
      "metadata": {
        "colab": {
          "base_uri": "https://localhost:8080/"
        },
        "id": "svmUDEfO5otM",
        "outputId": "b52e3b4d-3a47-4a35-9176-c5c8916681b5"
      },
      "source": [
        "%cd /content/Easy-Hyperparameter-Tuning-with-Keras-Tuner-and-TensorFlow"
      ],
      "execution_count": 2,
      "outputs": [
        {
          "output_type": "stream",
          "name": "stdout",
          "text": [
            "[Errno 2] No such file or directory: '/content/https://github.com/manhhv87/Easy-Hyperparameter-Tuning-with-Keras-Tuner-and-TensorFlow'\n",
            "/content\n"
          ]
        }
      ]
    },
    {
      "cell_type": "code",
      "metadata": {
        "colab": {
          "base_uri": "https://localhost:8080/"
        },
        "id": "jO07XgUZ5mLZ",
        "outputId": "f55c1d53-4398-4685-ee6a-4f97f0da581f"
      },
      "source": [
        "!time python3 train.py"
      ],
      "execution_count": 3,
      "outputs": [
        {
          "output_type": "stream",
          "name": "stdout",
          "text": [
            "python3: can't open file 'train.py': [Errno 2] No such file or directory\n",
            "\n",
            "real\t0m0.041s\n",
            "user\t0m0.032s\n",
            "sys\t0m0.009s\n"
          ]
        }
      ]
    },
    {
      "cell_type": "code",
      "metadata": {
        "colab": {
          "base_uri": "https://localhost:8080/"
        },
        "id": "BOV2lMUFRlPF",
        "outputId": "a2a32964-4aa3-4722-8622-e5dd02fb0580"
      },
      "source": [
        "!time python3 train.py --tuner hyperband --plot output/hyperband_plot.png"
      ],
      "execution_count": 4,
      "outputs": [
        {
          "output_type": "stream",
          "name": "stdout",
          "text": [
            "python3: can't open file 'train.py': [Errno 2] No such file or directory\n",
            "\n",
            "real\t0m0.044s\n",
            "user\t0m0.037s\n",
            "sys\t0m0.006s\n"
          ]
        }
      ]
    },
    {
      "cell_type": "code",
      "metadata": {
        "colab": {
          "base_uri": "https://localhost:8080/"
        },
        "id": "6PgcuZlRRqHg",
        "outputId": "ef50c408-a6f2-48b3-fc09-40ae6d9b7f47"
      },
      "source": [
        "!time python3 train.py --tuner random --plot output/random_plot.png"
      ],
      "execution_count": 5,
      "outputs": [
        {
          "output_type": "stream",
          "name": "stdout",
          "text": [
            "python3: can't open file 'train.py': [Errno 2] No such file or directory\n",
            "\n",
            "real\t0m0.050s\n",
            "user\t0m0.030s\n",
            "sys\t0m0.015s\n"
          ]
        }
      ]
    },
    {
      "cell_type": "code",
      "metadata": {
        "colab": {
          "base_uri": "https://localhost:8080/"
        },
        "id": "X3u2x39mi9OB",
        "outputId": "ac9a928d-28b9-4728-c92d-83e15b489cee"
      },
      "source": [
        "!time python3 train.py --tuner bayesian --plot output/bayesian_plot.png"
      ],
      "execution_count": 6,
      "outputs": [
        {
          "output_type": "stream",
          "name": "stdout",
          "text": [
            "python3: can't open file 'train.py': [Errno 2] No such file or directory\n",
            "\n",
            "real\t0m0.046s\n",
            "user\t0m0.032s\n",
            "sys\t0m0.011s\n"
          ]
        }
      ]
    }
  ]
}
